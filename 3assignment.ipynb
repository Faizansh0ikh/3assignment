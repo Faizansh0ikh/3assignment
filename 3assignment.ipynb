{
 "cells": [
  {
   "cell_type": "markdown",
   "id": "91063e3d-1383-438f-bb3e-8a3e74587c5d",
   "metadata": {},
   "source": [
    "Q1. What is multiprocessing in python? Why is it useful?"
   ]
  },
  {
   "cell_type": "markdown",
   "id": "cb213de6-1bad-4f1f-a3e8-456173743a87",
   "metadata": {},
   "source": [
    "Multiprocessing in Python refers to the ability to create and manage multiple processes simultaneously\n",
    "multiprocessing is useful when you need to achieve parallelism, distribute tasks across multiple processes,\n",
    "improve performance, and make efficient use of available hardware resources. It is particularly beneficial \n",
    "for CPU-bound tasks, computationally intensive operations, and applications that require concurrent processing of \n",
    "multiple tasks or requests."
   ]
  },
  {
   "cell_type": "markdown",
   "id": "427ba3f6-9efa-485f-b40a-b36ad1794d42",
   "metadata": {},
   "source": [
    "Q2. What are the differences between multiprocessing and multithreading?"
   ]
  },
  {
   "cell_type": "markdown",
   "id": "ba57e024-ffdc-40d6-afa9-13dbf5e3207b",
   "metadata": {},
   "source": [
    "\n",
    "1. **Execution Model**: Multiprocessing involves running multiple processes simultaneously, where each process has its own memory space and runs independently. In contrast, multithreading involves running multiple threads within a single process, sharing the same memory space.\n",
    "\n",
    "2. **Parallelism**: Multiprocessing achieves true parallelism by utilizing multiple processors or CPU cores. Each process runs on a separate core, enabling concurrent execution of tasks. On the other hand, multithreading achieves concurrency by interleaving the execution of multiple threads within a single process. However, due to the Global Interpreter Lock (GIL) in Python, multithreading cannot achieve true parallelism in CPU-bound tasks.\n",
    "\n",
    "3. **Resource Consumption**: Multiprocessing generally consumes more system resources compared to multithreading. Each process has its own memory space, and context switching between processes incurs overhead. In multithreading, threads share the same memory space, and context switching between threads is faster and consumes fewer resources.\n",
    "\n",
    "4. **Isolation**: In multiprocessing, each process runs independently in its own memory space. If one process crashes or encounters an error, it does not affect other processes. In multithreading, all threads within a process share the same memory space, so an error or exception in one thread can potentially affect the stability of other threads within the same process.\n",
    "\n",
    "5. **Communication and Data Sharing**: In multiprocessing, communication and data sharing between processes typically require explicit mechanisms like inter-process communication (IPC) or shared memory. This is because processes have separate memory spaces. In multithreading, communication and data sharing between threads are more straightforward since they share the same memory space. However, proper synchronization mechanisms like locks or semaphores are necessary to handle concurrent access to shared data and prevent race conditions.\n",
    "\n",
    "6. **Scalability**: Multiprocessing can scale better when it comes to utilizing multiple CPU cores or processors. Each process can run on a separate core, allowing for better parallelism. Multithreading, due to the GIL, may not fully utilize multiple CPU cores in CPU-bound tasks. It is more suitable for IO-bound tasks or situations where parallelism is not the primary concern."
   ]
  },
  {
   "cell_type": "markdown",
   "id": "13678413-2a7b-4c15-bd95-c8f8b9e31708",
   "metadata": {},
   "source": [
    "Q3. Write a python code to create a process using the multiprocessing module."
   ]
  },
  {
   "cell_type": "code",
   "execution_count": 1,
   "id": "251ed3df-b027-4809-86fa-ee13e00c965c",
   "metadata": {},
   "outputs": [
    {
     "name": "stdout",
     "output_type": "stream",
     "text": [
      "Process is running\n",
      "Process has finished\n"
     ]
    }
   ],
   "source": [
    "import multiprocessing\n",
    "\n",
    "def my_function():\n",
    "    print(\"Process is running\")\n",
    "\n",
    "if __name__ == \"__main__\":\n",
    "    # Create a process\n",
    "    process = multiprocessing.Process(target=my_function)\n",
    "\n",
    "    # Start the process\n",
    "    process.start()\n",
    "\n",
    "    # Wait for the process to finish\n",
    "    process.join()\n",
    "\n",
    "    print(\"Process has finished\")\n"
   ]
  },
  {
   "cell_type": "markdown",
   "id": "ff281d66-603e-40b6-92c0-ebf06a5dee0a",
   "metadata": {},
   "source": [
    "Q4. What is a multiprocessing pool in python? Why is it used?"
   ]
  },
  {
   "cell_type": "markdown",
   "id": "42e805a6-31b8-4965-b318-21ed09810b7f",
   "metadata": {},
   "source": [
    "In Python, a multiprocessing pool refers to a mechanism provided by the multiprocessing module to create a pool of worker processes. \n",
    "It allows you to distribute tasks across multiple processes efficiently.the multiprocessing pool is used when you have a set of independent tasks that can be executed in parallel. It simplifies the management of worker processes, task distribution, and result collection. By utilizing the multiprocessing pool, you can achieve efficient parallel execution and improve the performance of your Python programs.\n",
    "\n",
    "the multiprocessing pool is used when you have a set of independent tasks that can be executed in parallel. It simplifies the management of worker processes, task distribution, and result collection. By utilizing the multiprocessing pool, you can achieve efficient parallel execution and improve the performance of your Python programs."
   ]
  },
  {
   "cell_type": "markdown",
   "id": "73b68a17-206f-4ae0-9a53-9edeb1222396",
   "metadata": {},
   "source": [
    "Q5. How can we create a pool of worker processes in python using the multiprocessing module?"
   ]
  },
  {
   "cell_type": "code",
   "execution_count": 2,
   "id": "f702ee76-1d2f-4beb-bd94-c5b7216a9341",
   "metadata": {},
   "outputs": [
    {
     "name": "stdout",
     "output_type": "stream",
     "text": [
      "[2, 4, 6, 8, 10]\n"
     ]
    }
   ],
   "source": [
    "import multiprocessing\n",
    "\n",
    "def task_function(task):\n",
    "    # Perform some task\n",
    "    result = task * 2\n",
    "    return result\n",
    "\n",
    "if __name__ == \"__main__\":\n",
    "    # Create a pool of worker processes with a specified number of processes\n",
    "    pool = multiprocessing.Pool(processes=4)\n",
    "\n",
    "    # Define a list of tasks to be executed by the worker processes\n",
    "    tasks = [1, 2, 3, 4, 5]\n",
    "\n",
    "    # Submit the tasks to the pool and get the results\n",
    "    results = pool.map(task_function, tasks)\n",
    "\n",
    "    # Close the pool and wait for the worker processes to finish\n",
    "    pool.close()\n",
    "    pool.join()\n",
    "\n",
    "    # Print the results\n",
    "    print(results)\n"
   ]
  },
  {
   "cell_type": "markdown",
   "id": "78599dfe-16e5-4919-9484-a824b2b25f12",
   "metadata": {},
   "source": [
    "Q6. Write a python program to create 4 processes, each process should print a different number using the\n",
    "multiprocessing module in python."
   ]
  },
  {
   "cell_type": "code",
   "execution_count": 3,
   "id": "5ac547b6-35f9-493f-af35-9c990e3183e2",
   "metadata": {},
   "outputs": [
    {
     "name": "stdout",
     "output_type": "stream",
     "text": [
      "Process 1: 1Process 4: 4Process 3: 3Process 2: 2\n",
      "\n",
      "\n",
      "\n"
     ]
    }
   ],
   "source": [
    "import multiprocessing\n",
    "\n",
    "def print_number(number):\n",
    "    print(f\"Process {number}: {number}\")\n",
    "\n",
    "if __name__ == \"__main__\":\n",
    "    # Create a list of numbers\n",
    "    numbers = [1, 2, 3, 4]\n",
    "\n",
    "    # Create a pool of four processes\n",
    "    pool = multiprocessing.Pool(processes=4)\n",
    "\n",
    "    # Map the print_number function to the numbers list\n",
    "    pool.map(print_number, numbers)\n",
    "\n",
    "    # Close the pool and wait for the processes to finish\n",
    "    pool.close()\n",
    "    pool.join()\n"
   ]
  },
  {
   "cell_type": "code",
   "execution_count": null,
   "id": "763d34a4-a25c-4f57-86ab-971e34a578a5",
   "metadata": {},
   "outputs": [],
   "source": []
  }
 ],
 "metadata": {
  "kernelspec": {
   "display_name": "Python 3 (ipykernel)",
   "language": "python",
   "name": "python3"
  },
  "language_info": {
   "codemirror_mode": {
    "name": "ipython",
    "version": 3
   },
   "file_extension": ".py",
   "mimetype": "text/x-python",
   "name": "python",
   "nbconvert_exporter": "python",
   "pygments_lexer": "ipython3",
   "version": "3.10.8"
  }
 },
 "nbformat": 4,
 "nbformat_minor": 5
}
